{
 "metadata": {
  "name": "",
  "signature": "sha256:f48fe851cb5ffc904cfe376e6d11f038f281d5b65295b664f8fecb9dcc0e0d29"
 },
 "nbformat": 3,
 "nbformat_minor": 0,
 "worksheets": [
  {
   "cells": [
    {
     "cell_type": "code",
     "collapsed": false,
     "input": [
      "import os\n",
      "import pandas as pd\n",
      "import numpy as np\n",
      "%matplotlib inline\n",
      "import matplotlib\n",
      "import matplotlib.pyplot as plt\n",
      "import seaborn as sns"
     ],
     "language": "python",
     "metadata": {},
     "outputs": []
    },
    {
     "cell_type": "code",
     "collapsed": false,
     "input": [
      "# Pandas options\n",
      "pd.set_option('display.max_columns', None)\n",
      "pd.set_option('display.max_colwidth', 100000)"
     ],
     "language": "python",
     "metadata": {},
     "outputs": []
    },
    {
     "cell_type": "code",
     "collapsed": false,
     "input": [
      "!pwd\n",
      "# We'll save plots here\n",
      "!mkdir -p ../website/static/img/rsvp\n",
      "!ls ../website/static/img\n",
      "plotdir = \"../website/static/img/rsvp\""
     ],
     "language": "python",
     "metadata": {},
     "outputs": []
    },
    {
     "cell_type": "code",
     "collapsed": false,
     "input": [
      "# Seaborn options\n",
      "sns.set_style(\"white\")\n",
      "sns.set_style(\"ticks\")"
     ],
     "language": "python",
     "metadata": {},
     "outputs": []
    },
    {
     "cell_type": "code",
     "collapsed": false,
     "input": [
      "df = pd.read_csv('results.csv')\n",
      "df.rename(columns=lambda k: k.strip().strip(\"'\"), inplace=True)\n",
      "df = df.set_index(['name', 'partner'])"
     ],
     "language": "python",
     "metadata": {},
     "outputs": []
    },
    {
     "cell_type": "markdown",
     "metadata": {},
     "source": [
      "# Long-form text"
     ]
    },
    {
     "cell_type": "code",
     "collapsed": false,
     "input": [
      "def disp(col):\n",
      "    return pd.DataFrame(df[pd.notnull(df[col])][col])"
     ],
     "language": "python",
     "metadata": {},
     "outputs": []
    },
    {
     "cell_type": "code",
     "collapsed": false,
     "input": [
      "disp('marriage_advice')"
     ],
     "language": "python",
     "metadata": {},
     "outputs": []
    },
    {
     "cell_type": "code",
     "collapsed": false,
     "input": [
      "disp('marriage_observations')"
     ],
     "language": "python",
     "metadata": {},
     "outputs": []
    },
    {
     "cell_type": "code",
     "collapsed": false,
     "input": [
      "disp('impression')"
     ],
     "language": "python",
     "metadata": {},
     "outputs": []
    },
    {
     "cell_type": "code",
     "collapsed": false,
     "input": [
      "disp('other')"
     ],
     "language": "python",
     "metadata": {},
     "outputs": []
    },
    {
     "cell_type": "markdown",
     "metadata": {},
     "source": [
      "# Short form"
     ]
    },
    {
     "cell_type": "code",
     "collapsed": false,
     "input": [
      "disp('tradition')"
     ],
     "language": "python",
     "metadata": {},
     "outputs": []
    },
    {
     "cell_type": "code",
     "collapsed": false,
     "input": [
      "disp('next_country')"
     ],
     "language": "python",
     "metadata": {},
     "outputs": []
    },
    {
     "cell_type": "code",
     "collapsed": false,
     "input": [
      "disp('book_recommend')"
     ],
     "language": "python",
     "metadata": {},
     "outputs": []
    },
    {
     "cell_type": "code",
     "collapsed": false,
     "input": [
      "disp('allergies')"
     ],
     "language": "python",
     "metadata": {},
     "outputs": []
    },
    {
     "cell_type": "code",
     "collapsed": false,
     "input": [
      "disp('science_grade')"
     ],
     "language": "python",
     "metadata": {},
     "outputs": []
    },
    {
     "cell_type": "markdown",
     "metadata": {},
     "source": [
      "# Numerical"
     ]
    },
    {
     "cell_type": "code",
     "collapsed": false,
     "input": [
      "def to_numbers(series):\n",
      "    vals = []\n",
      "    for val in series.dropna():\n",
      "        if ',' in val:\n",
      "            vals.extend(float(v.strip().strip('$\u00b0Cc')) for v in val.split(','))\n",
      "        elif 'and' in val:\n",
      "            vals.extend(float(v.strip().strip('$\u00b0Cc')) for v in val.split('and'))\n",
      "        elif ' ' in val:\n",
      "            vals.append(float(val.split()[0].strip().strip('$\u00b0Cc')))\n",
      "        else:\n",
      "            vals.append(float(val.strip().strip('$\u00b0Cc')))\n",
      "    return np.asarray(vals)\n",
      "\n",
      "def visualize(dist, bw=0.3, xlabel=None, save=False):\n",
      "    sns.violinplot(dist,\n",
      "                   inner='stick', bw=bw,\n",
      "                   vert=False, color=\"coolwarm_r\", lw=2)\n",
      "    plt.axvline(dist.mean(), lw=2, color='#ac1735')\n",
      "    plt.text(dist.mean() * 1.03, 1.42,\n",
      "             \"Mean: %.2f\" % dist.mean(),\n",
      "             fontsize='x-large', color='#ac1735')\n",
      "    plt.yticks(())\n",
      "    if xlabel is not None:\n",
      "        plt.xlabel(xlabel)\n",
      "    sns.despine(left=True)\n",
      "    plt.tight_layout()\n",
      "    if save:\n",
      "        plt.savefig(os.path.join(plotdir, save))"
     ],
     "language": "python",
     "metadata": {},
     "outputs": []
    },
    {
     "cell_type": "code",
     "collapsed": false,
     "input": [
      "ages = df['age'].copy()\n",
      "ages[0] = '77,82'\n",
      "ages[6] = '32,32'\n",
      "ages[7] = '25,26'\n",
      "ages[12] = '28,29'\n",
      "visualize(to_numbers(ages), bw=0.3, xlabel=\"Age\", save=\"age.svg\")"
     ],
     "language": "python",
     "metadata": {},
     "outputs": []
    },
    {
     "cell_type": "code",
     "collapsed": false,
     "input": [
      "visualize(to_numbers(df['temperature']), bw=0.4, xlabel=\"Ideal temperature\", save=\"temp.svg\")"
     ],
     "language": "python",
     "metadata": {},
     "outputs": []
    },
    {
     "cell_type": "code",
     "collapsed": false,
     "input": [
      "visualize(to_numbers(df['siblings']), bw=0.3, xlabel=\"# of siblings\", save=\"siblings.svg\")"
     ],
     "language": "python",
     "metadata": {},
     "outputs": []
    },
    {
     "cell_type": "code",
     "collapsed": false,
     "input": [
      "visualize(to_numbers(df['places_lived']), bw=0.3, xlabel=\"# of places lived\", save=\"places.svg\")"
     ],
     "language": "python",
     "metadata": {},
     "outputs": []
    },
    {
     "cell_type": "code",
     "collapsed": false,
     "input": [
      "visualize(to_numbers(df['cities_lived']), xlabel=\"# of cities lived\")"
     ],
     "language": "python",
     "metadata": {},
     "outputs": []
    },
    {
     "cell_type": "code",
     "collapsed": false,
     "input": [
      "visualize(to_numbers(df['broken_bones']), bw=0.4, xlabel=\"# of broken bones\", save=\"bones.svg\")"
     ],
     "language": "python",
     "metadata": {},
     "outputs": []
    },
    {
     "cell_type": "code",
     "collapsed": false,
     "input": [
      "visualize(to_numbers(df['shoe_size']), bw=0.4, xlabel=\"Shoe size\")"
     ],
     "language": "python",
     "metadata": {},
     "outputs": []
    },
    {
     "cell_type": "code",
     "collapsed": false,
     "input": [
      "wage = df['wage'].copy()\n",
      "wage[0] = '0.25'\n",
      "wage[6] = np.nan\n",
      "wage[9] = '8.00'\n",
      "visualize(to_numbers(wage), bw=0.3, xlabel=\"Hourly wage of first job\", save=\"wage.svg\")"
     ],
     "language": "python",
     "metadata": {},
     "outputs": []
    },
    {
     "cell_type": "markdown",
     "metadata": {},
     "source": [
      "# Bars"
     ]
    },
    {
     "cell_type": "code",
     "collapsed": false,
     "input": [
      "def bars(counts, na='None', title=None, save=False):\n",
      "    if na in counts.index:\n",
      "        counts[na] = np.nan\n",
      "    ax = counts.dropna().plot(kind=\"barh\")\n",
      "    ax.invert_yaxis()\n",
      "    ax.get_xaxis().set_major_locator(matplotlib.ticker.MaxNLocator(integer=True))\n",
      "    plt.axvline(0, c='k')\n",
      "    sns.despine()\n",
      "    plt.gcf().set_size_inches([3.5, 4])\n",
      "    if title is not None:\n",
      "        plt.title(title)\n",
      "    plt.tight_layout()\n",
      "    if save:\n",
      "        plt.savefig(os.path.join(plotdir, save))"
     ],
     "language": "python",
     "metadata": {},
     "outputs": []
    },
    {
     "cell_type": "code",
     "collapsed": false,
     "input": [
      "bars(pd.concat([df['my_receive_affection'],\n",
      "                df['partner_receive_affection']]).value_counts(),\n",
      "     na='Prefer not to say', title=\"How I receive affection\", save=\"receive.svg\")"
     ],
     "language": "python",
     "metadata": {},
     "outputs": []
    },
    {
     "cell_type": "code",
     "collapsed": false,
     "input": [
      "bars(pd.concat([df['my_give_affection'],\n",
      "                df['partner_give_affection']]).value_counts(),\n",
      "     na='Prefer not to say', title=\"How I give affection\", save=\"give.svg\")"
     ],
     "language": "python",
     "metadata": {},
     "outputs": []
    },
    {
     "cell_type": "code",
     "collapsed": false,
     "input": [
      "cg = df['card_game'].copy()\n",
      "cg[3] = 'Euchre'\n",
      "cg[15] = 'Dutch Blitz'\n",
      "bars(cg.value_counts(), title=\"Card game\", save=\"cardgame.svg\")"
     ],
     "language": "python",
     "metadata": {},
     "outputs": []
    },
    {
     "cell_type": "code",
     "collapsed": false,
     "input": [
      "cn = df['car_name'].copy()\n",
      "cn[5] = \"C1\"\n",
      "cn[13] = \"It depends...\"\n",
      "cn[15] = \"It depends...\"\n",
      "bars(cn.value_counts(), title=\"Car name\", save=\"carname.svg\")"
     ],
     "language": "python",
     "metadata": {},
     "outputs": []
    },
    {
     "cell_type": "code",
     "collapsed": false,
     "input": [
      "bars(df['morning_night'].value_counts(), title=\"Time of day\", save=\"timeofday.svg\")"
     ],
     "language": "python",
     "metadata": {},
     "outputs": []
    },
    {
     "cell_type": "code",
     "collapsed": false,
     "input": [
      "bars(df['accomodation'].value_counts(), title=\"Accommodation\", save=\"accommodation.svg\")"
     ],
     "language": "python",
     "metadata": {},
     "outputs": []
    },
    {
     "cell_type": "code",
     "collapsed": false,
     "input": [
      "bars(df['wine'].value_counts(), title=\"Wine\", save=\"wine.svg\")"
     ],
     "language": "python",
     "metadata": {},
     "outputs": []
    },
    {
     "cell_type": "code",
     "collapsed": false,
     "input": [
      "bars(df['hot_beverage'].value_counts(), title=\"Hot beverage\", save=\"beverage.svg\")"
     ],
     "language": "python",
     "metadata": {},
     "outputs": []
    },
    {
     "cell_type": "code",
     "collapsed": false,
     "input": [
      "bars(df['bread'].value_counts(), title=\"Bread\", save=\"bread.svg\")"
     ],
     "language": "python",
     "metadata": {},
     "outputs": []
    },
    {
     "cell_type": "code",
     "collapsed": false,
     "input": [
      "bars(df['cake'].value_counts(), title=\"Cake\", save=\"cake.svg\")"
     ],
     "language": "python",
     "metadata": {},
     "outputs": []
    }
   ],
   "metadata": {}
  }
 ]
}